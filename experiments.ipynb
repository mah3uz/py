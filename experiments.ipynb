{
 "cells": [
  {
   "cell_type": "markdown",
   "metadata": {},
   "source": [
    "# This is Python experiment ground!"
   ]
  },
  {
   "cell_type": "markdown",
   "metadata": {},
   "source": [
    "### Object Oriented Python (OOP)"
   ]
  },
  {
   "cell_type": "code",
   "execution_count": 14,
   "metadata": {},
   "outputs": [
    {
     "name": "stdout",
     "output_type": "stream",
     "text": [
      "Writing employee.py\n"
     ]
    }
   ],
   "source": [
    "%%writefile employee.py\n",
    "class Employee:\n",
    "    \n",
    "    num_of_emps = 0\n",
    "    raise_amount = 1.04\n",
    "    \n",
    "    def __init__(self, first_name, last_name, salary):\n",
    "        self.first_name = first_name\n",
    "        self.last_name = last_name\n",
    "        self.salary = salary\n",
    "        \n",
    "        Employee.num_of_emps += 1\n",
    "        \n",
    "    def __repr__(self):\n",
    "        return f\"Employee('{self.first_name}', '{self.last_name}', {self.salary})\"\n",
    "    \n",
    "    def __str__(self):\n",
    "        return f'{self.fullname} - {self.email}'\n",
    "        \n",
    "    def __add__(self, other):\n",
    "        return self.salary + other.salary\n",
    "    \n",
    "    def __len__(self):\n",
    "        return len(self.fullname())\n",
    "    \n",
    "    @property\n",
    "    def fullname(self):\n",
    "        return f'{self.first_name} {self.last_name}'\n",
    "\n",
    "    @fullname.setter\n",
    "    def fullname(self, name):\n",
    "        first_name, last_name = name.split(' ')\n",
    "        self.first_name = first_name\n",
    "        self.last_name = last_name\n",
    "    \n",
    "    @property\n",
    "    def email(self):\n",
    "        return f'{self.first_name}.{self.last_name}@company.com'\n",
    "\n",
    "    def apply_raise(self):\n",
    "        self.salary = int(self.salary * self.raise_amount)\n",
    "        \n",
    "    @classmethod\n",
    "    def set_raise_amt(cls, amount):\n",
    "        cls.raise_amount = amount\n",
    "        \n",
    "    @classmethod\n",
    "    def from_string(cls, string):\n",
    "        \"Construct an Employee from a STRING seperated by '-'\"\n",
    "        first_name, last_name, salary = string.split('-')\n",
    "        return cls(first_name, last_name, salary)\n",
    "        \n",
    "    @staticmethod\n",
    "    def is_workday(day):\n",
    "        if day.weekday() == 4 or day.weekday() == 5:\n",
    "            return False\n",
    "        return True\n",
    "    \n",
    "\n",
    "class Developer(Employee):\n",
    "    raise_amount = 1.10\n",
    "    \n",
    "    def __init__(self, first_name, last_name, salary, prog_lang):\n",
    "        super().__init__(first_name, last_name, salary)\n",
    "        self.prog_lang = prog_lang\n",
    "        \n",
    "\n",
    "class Manager(Employee):\n",
    "    def __init__(self, first_name, last_name, salary, employees=None):\n",
    "        super().__init__(first_name, last_name, salary)\n",
    "        if employees is None:\n",
    "            self.employees = []\n",
    "        else:\n",
    "            self.employees = employees\n",
    "            \n",
    "    def add_emp(self, emp):\n",
    "        if emp not in self.employees:\n",
    "            self.employees.append(emp)\n",
    "            \n",
    "    def del_emp(self, emp):\n",
    "        if emp in self.employees:\n",
    "            self.employees.remove(emp)\n",
    "            \n",
    "    def print_emps(self):\n",
    "        for emp in self.employees:\n",
    "            print('-->', emp.fullname())\n",
    "\n",
    "    \n",
    "if __name__ == '__main__':\n",
    "    pass\n",
    "    "
   ]
  },
  {
   "cell_type": "markdown",
   "metadata": {},
   "source": [
    "# Programming Terms"
   ]
  },
  {
   "cell_type": "markdown",
   "metadata": {},
   "source": [
    "### First Class Function"
   ]
  },
  {
   "cell_type": "code",
   "execution_count": 19,
   "metadata": {},
   "outputs": [
    {
     "name": "stdout",
     "output_type": "stream",
     "text": [
      "<h1>Hello World!</h1>\n",
      "<p>This is a paragraph.</p>\n"
     ]
    }
   ],
   "source": [
    "def my_map(func, _list):\n",
    "    result = []\n",
    "    for i in _list:\n",
    "        result.append(func(i))\n",
    "    return result\n",
    "\n",
    "def square(x):\n",
    "    return x * x\n",
    "\n",
    "def cube(x):\n",
    "    return x * x * x\n",
    "\n",
    "def html_tag(tag):\n",
    "    def wrap_text(msg):\n",
    "        print(f'<{tag}>{msg}</{tag}>')\n",
    "        \n",
    "    return wrap_text\n",
    "\n",
    "print_h1 = html_tag('h1')\n",
    "print_h1('Hello World!')\n",
    "\n",
    "print_p = html_tag('p')\n",
    "print_p('This is a paragraph.')\n"
   ]
  },
  {
   "cell_type": "markdown",
   "metadata": {},
   "source": [
    "### Closure"
   ]
  },
  {
   "cell_type": "code",
   "execution_count": 16,
   "metadata": {},
   "outputs": [
    {
     "name": "stdout",
     "output_type": "stream",
     "text": [
      "Writing logit.py\n"
     ]
    }
   ],
   "source": [
    "%%writefile logit.py\n",
    "import logging\n",
    "logging.basicConfig(filename='closure.log', level=logging.INFO)\n",
    "\n",
    "def logger(func):\n",
    "    def log_func(*args):\n",
    "        logging.info(\n",
    "            f'Running \"{func.__name__}\" with arguments {args}'\n",
    "        )\n",
    "        print(func(*args))\n",
    "        \n",
    "    return log_func\n",
    "\n",
    "def add(x, y):\n",
    "    return x + y\n",
    "\n",
    "def sub(x, y):\n",
    "    return x - y\n",
    "\n",
    "add_logger = logger(add)\n",
    "sub_logger = logger(sub)\n",
    "\n",
    "add_logger(3, 3)\n",
    "add_logger(4, 5)\n",
    "\n",
    "sub_logger(10, 5)\n",
    "sub_logger(23, 5)"
   ]
  },
  {
   "cell_type": "markdown",
   "metadata": {},
   "source": [
    "### DATETIME module"
   ]
  },
  {
   "cell_type": "code",
   "execution_count": 15,
   "metadata": {},
   "outputs": [
    {
     "name": "stdout",
     "output_type": "stream",
     "text": [
      "Overwriting credit.py\n"
     ]
    }
   ],
   "source": [
    "%%writefile credit.py\n",
    "# Date Time Calculation\n",
    "import datetime\n",
    "import calendar\n",
    "\n",
    "BALANCE = 100000\n",
    "INTEREST_RATE = 0.12\n",
    "MONTHLY_PAYMENT = 5000\n",
    "\n",
    "today = datetime.date.today()\n",
    "days_in_current_month = calendar.monthrange(today.year, today.month)[1]\n",
    "days_till_end_month = days_in_current_month - today.day\n",
    "start_date = today + datetime.timedelta(days=days_till_end_month + 1)\n",
    "end_date = start_date\n",
    "\n",
    "while BALANCE > 0:\n",
    "    interest_charge = (INTEREST_RATE / 12) * BALANCE\n",
    "    BALANCE += interest_charge\n",
    "    BALANCE -= MONTHLY_PAYMENT\n",
    "        \n",
    "    BALANCE = 0 if BALANCE < 0 else round(BALANCE, 2)\n",
    "    \n",
    "    print(end_date, BALANCE)\n",
    "    \n",
    "    days_in_current_month = calendar.monthrange(today.year, today.month)[1]\n",
    "    end_date = end_date + datetime.timedelta(days=days_in_current_month)\n",
    "    "
   ]
  },
  {
   "cell_type": "code",
   "execution_count": 2,
   "metadata": {},
   "outputs": [
    {
     "name": "stdout",
     "output_type": "stream",
     "text": [
      "2019-04-29\n",
      "Reached goal in 30 weeks\n"
     ]
    }
   ],
   "source": [
    "# Weight Loss\n",
    "import datetime\n",
    "\n",
    "CURRENT_WEIGHT = 120\n",
    "GOAL_WEIGHT = 180\n",
    "AVG_LBS_WEEK = 2\n",
    "\n",
    "start_date = datetime.date.today()\n",
    "end_date = start_date\n",
    "\n",
    "while CURRENT_WEIGHT < GOAL_WEIGHT:\n",
    "    end_date += datetime.timedelta(days=7)\n",
    "    CURRENT_WEIGHT += AVG_LBS_WEEK\n",
    "\n",
    "print(end_date)\n",
    "print(f'Reached goal in {(end_date - start_date).days // 7} weeks')\n"
   ]
  },
  {
   "cell_type": "markdown",
   "metadata": {},
   "source": [
    "### List Comprehension"
   ]
  },
  {
   "cell_type": "code",
   "execution_count": 10,
   "metadata": {},
   "outputs": [
    {
     "name": "stdout",
     "output_type": "stream",
     "text": [
      "[1, 4, 4, 9, 4, 16, 36, 49, 9, 16, 1, 64, 25, 49, 81]\n"
     ]
    }
   ],
   "source": [
    "_list = [1, 2, 2, 3, 2, 4, 6, 7, 3, 4, 1, 8, 5, 7, 9]\n",
    "nums = [n for n in range(1, 100)]\n",
    "even_list = [n for n in range(2, 101, 2)]\n",
    "names = ['Mahfuz', 'AlAmin', 'Abul', 'Yousuf']\n",
    "heros = ['Ali (RA)', 'Osman (RA)', 'Omar (RA)', 'Abu Bakkar (RA)']\n",
    "\n",
    "# my_list = [n*n for n in even_list]\n",
    "# my_list = map(lambda n: n*n, nums)\n",
    "# my_list = [n for n in nums if n % 2 == 0]\n",
    "# my_list = filter(lambda n: n%2 == 0, nums)\n",
    "# my_list = [(letter, num) for letter in 'abcd' for num in range(4)]\n",
    "# my_dict = {name: hero for name, hero in zip(names, heros) if name != 'Yousuf'}\n",
    "# my_set = {i for i in _list if i%2 != 0}\n",
    "my_gen = (n*n for n in _list)\n",
    "\n",
    "print(list(my_gen))\n"
   ]
  },
  {
   "cell_type": "markdown",
   "metadata": {},
   "source": [
    "### Bash function"
   ]
  },
  {
   "cell_type": "code",
   "execution_count": null,
   "metadata": {},
   "outputs": [],
   "source": []
  }
 ],
 "metadata": {
  "kernelspec": {
   "display_name": "Python 3",
   "language": "python",
   "name": "python3"
  },
  "language_info": {
   "codemirror_mode": {
    "name": "ipython",
    "version": 3
   },
   "file_extension": ".py",
   "mimetype": "text/x-python",
   "name": "python",
   "nbconvert_exporter": "python",
   "pygments_lexer": "ipython3",
   "version": "3.7.0"
  }
 },
 "nbformat": 4,
 "nbformat_minor": 2
}
